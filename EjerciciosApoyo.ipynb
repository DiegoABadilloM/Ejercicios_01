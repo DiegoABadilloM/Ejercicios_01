{
 "cells": [
  {
   "cell_type": "code",
   "execution_count": 8,
   "metadata": {},
   "outputs": [],
   "source": [
    "import math"
   ]
  },
  {
   "cell_type": "markdown",
   "metadata": {},
   "source": [
    "Notación factorial\n",
    "\n",
    "La notación factorial se refiere al uso del símbolo ! para representar el producto de nú-\n",
    "meros enteros positivos de la manera siguiente:\n",
    "\n",
    "n! = n(n – 1) ⋅ (n – 2)... 3 ⋅ 2 ⋅ 1\n",
    "\n",
    "$$\n",
    "\\begin{align}\n",
    "    n! &= n(n-1) ⋅ (n-2)... 3 ⋅ 2 ⋅ 1\\\\\n",
    "    \n",
    "\\end{align}\n",
    "$$\n",
    "\n",
    "Por convención, 0! = 1"
   ]
  },
  {
   "cell_type": "markdown",
   "metadata": {},
   "source": [
    "Principio multiplicativo\n",
    "\n",
    "Si una operación puede realizarse en m formas y una segunda puede hacerse en n for-\n",
    "mas, entonces las dos operaciones pueden realizarse juntas en m ⋅ n formas.\n",
    "\n",
    "Retomemos el ejemplo 2, en el que se lanza el dado y posteriormente la moneda. ¿Cuántos\n",
    "resultados son posibles?\n",
    "Solución\n",
    "Si revisamos el diagrama de árbol de la solución del ejemplo 2 veremos que hay 12 resultados\n",
    "posibles. Al aplicar el principio multiplicativo obtenemos:\n",
    "número de caras del dado × número de caras de la moneda = 6 × 2 = 12\n"
   ]
  },
  {
   "cell_type": "markdown",
   "metadata": {},
   "source": [
    "Principio aditivo\n",
    "Si una operación puede realizarse en m formas y otra en n y ambas no pueden realizarse\n",
    "juntas, entonces el número total de formas en las que se pueden realizar es m + n.\n",
    "Supón que planeas un viaje y debes decidir entre trasladarte por autobús o avión. Si hay tres\n",
    "rutas para el autobús y dos para el avión, ¿cuántas rutas en total tienes disponibles?\n",
    "Solución\n",
    "\n",
    "Como no se puede viajar en autobús y avión al mismo tiempo, entonces se usa el principio adi-\n",
    "tivo, por lo que tienes\n",
    "$$\n",
    "\\begin{align}\n",
    "    3 + 2 = 5\n",
    "\\end{align}\n",
    "$$\n"
   ]
  },
  {
   "cell_type": "markdown",
   "metadata": {},
   "source": [
    "Permutaciones:\n",
    "\n",
    "Una permutación es un arreglo de todos los elementos de un conjunto, o de una parte de ellos, en el que importa el orden.\n",
    "Teorema 1.\n",
    "\n",
    " Sean n, r ∈ N no negativos, con r ≤ n, entonces:\n",
    "\n",
    "a. El número de permutaciones de n objetos distintos es n!\n",
    "\n",
    "b. El número de permutaciones de n objetos distintos, tomando r a la vez, es\n",
    "\n",
    "$$\n",
    "\\begin{align}\n",
    "    _nP_r &= \\dfrac{n!}{(n - r)!}\\\\\n",
    "\\end{align}\n",
    "$$\n"
   ]
  },
  {
   "cell_type": "markdown",
   "metadata": {},
   "source": [
    "Combinaciones\n",
    "\n",
    "Dado un conjunto de n objetos distintos, cualquier subconjunto no ordenado de tamaño r de esos objetos se llama combinación.\n",
    "\n",
    "Teorema 2. Sean n, r ∈ N no negativos, con r ≤ n; entonces el número de formas de elegir r elementos de un conjunto de n objetos distintos, sin importar el orden, es:\n",
    "$$\n",
    "\\begin{align}\n",
    "    _nC_r &= \\dfrac{n}{r} &= \\dfrac{n!}{r!(n - r)!}\\\\\n",
    "\\end{align}\n",
    "$$\n",
    "\n",
    "Si queremos resolver este ejemplo mediante una hoja de cálculo como Excel hemos de usar la función =PERMUTACIONES(), con los valores correspondientes de n y r, respectivamente:\n",
    "\n",
    "Se oprime Intro y listo, obtenemos el resultado.\n",
    "¿Cuántas palabras distintas pueden formarse con las letras A, B, C, D, E, F, si es necesario que D, E y F estén juntas?\n",
    "\n",
    "Solución\n",
    "\n",
    "Como se pide que D, E y F estén juntas, entonces consideramos estas letras como un solo elemento:\n",
    "\n",
    "A B C D E F\n",
    "\n",
    "por lo que contamos con cuatro elementos que debemos “mover”, es decir, tenemos 4!\n",
    "Pero D, E y F pueden estar en distinto orden y aun así seguir juntas, lo que equivale a 3!\n",
    "\n",
    "Como estas dos operaciones se pueden llevar a cabo al mismo tiempo, aplicamos el prin-\n",
    "cipio multiplicativo:\n",
    "\n",
    "4! × 3! = 144 palabras\n",
    "Podemos formar 144 palabras con las condiciones descritas.\n",
    "\n",
    "En un grupo de 30 alumnos se quiere formar equipos de cuatro personas. ¿Cuántos equipos\n",
    "pueden formarse?\n",
    "Solución\n",
    "Como no importa el orden, entonces calculamos las combinaciones de n = 30 y r = 4:\n",
    "$$\n",
    "\\begin{align}\n",
    "    _30C_4 &= \\dfrac{_30}{_4} &= \\dfrac{30!}{4!(30 - 4)!} &= 27405\\\\\n",
    "\\end{align}\n",
    "$$"
   ]
  },
  {
   "cell_type": "markdown",
   "metadata": {},
   "source": [
    "8.Sólo para practicar. Se tienen los números 0, 3, 4, 6, 7 y 9. Si no se permiten repeticiones:  \n",
    "a) ¿Cuántos números de tres dígitos se pueden formar?  \n",
    "Dado que tenemos 6 números y se deben formar números de 3 dígitos, aplicamos la formula de \n",
    "permutaciones:\n",
    "$$\n",
    "\\begin{align}\n",
    "    _nP_r &= \\dfrac{n!}{(n - r)!}\\\\\n",
    "    _6P_3 &= \\dfrac{6!}{(6 - 3)!}\\\\\n",
    "    _6P_3 &= \\dfrac{6!}{3!} = \\dfrac{720}{6}\\\\\n",
    "    _6P_3 &= 120\n",
    "\\end{align}\n",
    "$$\n",
    "por lo tanto se puede formar ***120*** números de tres dígitos"
   ]
  },
  {
   "cell_type": "code",
   "execution_count": 9,
   "metadata": {},
   "outputs": [
    {
     "name": "stdout",
     "output_type": "stream",
     "text": [
      "Hay 120 numeros de 3 digitos usando: 0, 3, 4, 6, 7, y 9\n"
     ]
    }
   ],
   "source": [
    "# Implementación de la solución del inciso a) del ejercicio 8 \n",
    "n, r = 6, 3\n",
    "numbers_of_3_digits = math.perm(n, r)\n",
    "print(f'Hay {numbers_of_3_digits} numeros de 3 digitos usando: 0, 3, 4, 6, 7, y 9')"
   ]
  },
  {
   "cell_type": "markdown",
   "metadata": {},
   "source": [
    "b) ¿Cuántos de éstos son menores que 400?  \n",
    "los numeros proporcionados son : 0, 3, 4, 6, 7 y 9 por lo tanto, todos aquellos numeros que \n",
    "comiencen con 0 y 3 son menores que 400. De esta forma los patrones de estos números son los siguientes:\n",
    "- **Patron 1**: 0 _ _, para este caso tenemos 2 espacios, para el primero tenemos 5 espacios\n",
    "opciones i.e. 3, 4, 6, 7 y 9 y para el caso segundo 4.\n",
    "Por que utilizando permutaciones podemos proceder como:\n",
    "\n",
    "$$\n",
    "\\begin{align}\n",
    "   5 \\cdot 4 = 20.\n",
    "\\end{align}\n",
    "$$\n",
    "\n",
    "- **Patron 2**: 3 _ _, en este caso resolvemos usando la misma logica anterior por lo que tenemos\n",
    "\n",
    "$$\n",
    "\\begin{align}\n",
    "   5 \\cdot 4 = 20.\n",
    "\\end{align}\n",
    "$$\n",
    "ahora solo tenemos los patrones para un total de \n",
    "**40 números de 3 dígitos menores a 400**"
   ]
  },
  {
   "cell_type": "code",
   "execution_count": 10,
   "metadata": {},
   "outputs": [
    {
     "name": "stdout",
     "output_type": "stream",
     "text": [
      "Hay 40 numeros de 3 digitos menores que 400.\n"
     ]
    }
   ],
   "source": [
    "# implementación de la solución del inciso b) del ejercicio 8\n",
    "print(f'Hay {2*20} numeros de 3 digitos menores que 400.')"
   ]
  },
  {
   "cell_type": "markdown",
   "metadata": {},
   "source": [
    "c) cuantos son pares?\n",
    "\n",
    "Los numeros proporcionados son: 0, 3, 4, 6, 7 y 9 por lo tanto todos\n",
    "aquellos numeros que comiencen con 0 o 3 son menores que 400. De esta forma \n",
    "los patrones de stos numeros son los siguientes:\n",
    "- *Patron 1*: 0 _ _, para este caso tenemos 2 espacios, para el primero tenemos 5 \n",
    "opciones i.e. 3, 4, 6, 7 y 9 y para el segundo 4. \n",
    "Por que utilizando permutaciones podemos proceder como\n",
    "\n",
    "$$\n",
    "\\begin{align}\n",
    "    5 \\cdot 4 = 20.\n",
    "\\end{align}\n",
    "$$"
   ]
  },
  {
   "cell_type": "code",
   "execution_count": 11,
   "metadata": {},
   "outputs": [
    {
     "name": "stdout",
     "output_type": "stream",
     "text": [
      "Hay 60 numeros pares de 3 digitos.\n"
     ]
    }
   ],
   "source": [
    "# Implementacion de la solucion del inciso c) del ejercicio 8\n",
    "print(f'Hay {3*20} numeros pares de 3 digitos.')"
   ]
  },
  {
   "cell_type": "markdown",
   "metadata": {},
   "source": [
    "d) Cuantos son impares?\n",
    "\n",
    "Los numeros proporcionados son: 0, 3, 4, 6, 7 y 9 por lo tanto todos\n",
    "aquellos numeros que terminen con 3, 7 y 9 son impares. Aplicando el mismo \n",
    "razonamiento del inciso anterior tenemos $3 \\cdot 20 = 60$.   \n",
    "*Hay 60 numeros impares de 3 digitos*."
   ]
  },
  {
   "cell_type": "code",
   "execution_count": 12,
   "metadata": {},
   "outputs": [
    {
     "name": "stdout",
     "output_type": "stream",
     "text": [
      "Hay 60 numeros impares de 3 digitos.\n"
     ]
    }
   ],
   "source": [
    "# Implementacion de la solucion del inciso d) del ejercicio 8\n",
    "print(f'Hay {3*20} numeros impares de 3 digitos.')"
   ]
  },
  {
   "cell_type": "markdown",
   "metadata": {},
   "source": [
    "e) Cuantos son multiplos de 5?\n",
    "\n",
    "Los numeros proporcionados son: 0, 3, 4, 6, 7 y 9 por lo tanto todos\n",
    "aquellos numeros que terminen en 0 son multiplos de 5. Emplenado el analisis\n",
    "del inciso *c) i.e. (X _ _)* tenemos:  \n",
    "$1 \\cdot 20 = 20$. *Hay 20 numeros multiplos de 5  de 3 digitos*.\n"
   ]
  },
  {
   "cell_type": "code",
   "execution_count": 13,
   "metadata": {},
   "outputs": [
    {
     "name": "stdout",
     "output_type": "stream",
     "text": [
      "Hay 20 numeros multiplos de 5 de 3 digitos.\n"
     ]
    }
   ],
   "source": [
    "# Implementacion de la solucion del inciso e) del ejercicio 8\n",
    "print(f'Hay {20} numeros multiplos de 5 de 3 digitos.')"
   ]
  },
  {
   "cell_type": "code",
   "execution_count": null,
   "metadata": {},
   "outputs": [],
   "source": []
  }
 ],
 "metadata": {
  "kernelspec": {
   "display_name": "Python 3",
   "language": "python",
   "name": "python3"
  },
  "language_info": {
   "codemirror_mode": {
    "name": "ipython",
    "version": 3
   },
   "file_extension": ".py",
   "mimetype": "text/x-python",
   "name": "python",
   "nbconvert_exporter": "python",
   "pygments_lexer": "ipython3",
   "version": "3.11.9"
  }
 },
 "nbformat": 4,
 "nbformat_minor": 2
}
